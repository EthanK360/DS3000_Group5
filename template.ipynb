{
 "cells": [
  {
   "cell_type": "markdown",
   "metadata": {},
   "source": [
    "This is the template for DS3000 Final data analysis project. Once you finish, please remove all my instructions. You do not need to exactly follow the structure in the template but please make sure you have all the components. Write your report in paragraphs. Only use bullet points when list something (eg: functions) "
   ]
  },
  {
   "cell_type": "markdown",
   "metadata": {},
   "source": [
    "# Speed, Stamina, and Status: Analyzing Perfomance Metrics in Palworld\n",
    "#### Team number: 5\n",
    "- Maylin Vo, Ethan Kim, James Foehner"
   ]
  },
  {
   "cell_type": "code",
   "execution_count": 16,
   "metadata": {},
   "outputs": [],
   "source": [
    "import warnings\n",
    "warnings.simplefilter(action = 'ignore', category = FutureWarning)\n",
    "\n",
    "import pandas as pd\n",
    "import seaborn as sns\n",
    "from sklearn import tree\n",
    "import matplotlib.pyplot as plt\n",
    "import numpy as np\n",
    "from sklearn.model_selection import KFold\n",
    "from sklearn.metrics import r2_score\n",
    "from sklearn.metrics import silhouette_score\n",
    "import pylab as py\n",
    "import scipy.stats as stats\n",
    "import plotly.express as px\n",
    "\n",
    "from sklearn.cluster import KMeans\n",
    "from scipy.cluster.hierarchy import dendrogram, linkage\n",
    "from sklearn.cluster import AgglomerativeClustering\n",
    "from sklearn.decomposition import PCA"
   ]
  },
  {
   "cell_type": "markdown",
   "metadata": {},
   "source": [
    "## Introduction\n",
    "\n",
    "Palworld is an open-world survival and creature-collection game in which players can explore a multitude of various environments all while capturing fantastical creatures known as \"Pals\". Each Pal can be assigned to various tasks such as combat, crafting, and resource gathering. Also, each pal comes with its own unique set of attributes such as stamina and running speed. In a way, this is like compettitve analysis in real-life sports where understanding how these attributes interact can reveal deeper patterns in efficiency and effectiveness.\n",
    "\n",
    "In this project, we are aiming to uncover statistical relationships between a Pal's physical performance and its perceived value within the game's ecosystem. Here is what we will explore:\n",
    "1. Are a Pal's Stamina and running speed related?\n",
    "2. What features affect a Pal's rank in the tier list?\n",
    "\n",
    "This analysis not only gives insights for players looking for optimal team composition, but also provides a case study in applying data science techniques to a real-life-like dataset embedded in a game environment."
   ]
  },
  {
   "cell_type": "markdown",
   "metadata": {},
   "source": [
    "## Data \n",
    "\n",
    "### Data Source\n",
    "\n",
    "- List the website you have scraped the data from.\n",
    "- List which information you have scraped\n",
    "- Describe what kind of cleaning you have done to the data\n",
    "\n",
    "### Webscraping and cleaning functions overview\n",
    "\n",
    "List all the functions you have written for webscraping and data cleaning. For each one, write one sentence to describe it. \n",
    "- `extract_soup()`\n",
    "    - build url and return soup object\n",
    "\n",
    "### Data overview\n",
    "\n",
    "- Show a couple of rows of the cleaned data you are going to use for the analysis\n",
    "- Which is your target value (if exists)\n",
    "- Give a general summary about the other features\n",
    "- Discuss if there is any potential problems about the data (eg: missing values, any features that you did not collect but may be important, any other concerns)"
   ]
  },
  {
   "cell_type": "markdown",
   "metadata": {},
   "source": [
    "## Webscraping and cleaning"
   ]
  },
  {
   "cell_type": "code",
   "execution_count": 21,
   "metadata": {},
   "outputs": [],
   "source": [
    "# list all the functions you have for webscraping and cleaning. Make sure write full \n",
    "# docstrings for each function\n",
    "import csv\n",
    "import time\n",
    "import re\n",
    "from urllib.parse import urljoin\n",
    "import requests\n",
    "from bs4 import BeautifulSoup\n",
    "\n",
    "BASE = \"https://palworld.gg\"\n",
    "INDEX_URL = urljoin(BASE, \"/pals\")\n",
    "HEADERS = {\n",
    "    \"User-Agent\": \"Mozilla/5.0 (compatible; PalScraper/1.0; +https://example.com)\"\n",
    "}\n",
    "\n",
    "def get_soup(url, retries=3, backoff=1.5):\n",
    "    for i in range(retries):\n",
    "        r = requests.get(url, headers=HEADERS, timeout=20)\n",
    "        if r.status_code == 200:\n",
    "            return BeautifulSoup(r.text, \"html.parser\")\n",
    "        time.sleep(backoff * (i+1))\n",
    "    r.raise_for_status()\n",
    "\n",
    "def parse_index():\n",
    "    soup = get_soup(INDEX_URL)\n",
    "    pals = []\n",
    "    \n",
    "    for a in soup.select('a[href^=\"/pal/\"]'):\n",
    "        text = \" \".join(a.get_text(\" \", strip=True).split())\n",
    "        name_match = re.match(r\"(.+?)\\s+#?(-?\\d+)\\s+(\\d+)\\s+(\\w+)\", text)\n",
    "        \n",
    "        if not name_match:\n",
    "            # Fallback: just use the slug as name if needed\n",
    "            slug = a.get(\"href\").split(\"/\")[-1]\n",
    "            pals.append({\n",
    "                \"name\": slug.replace(\"-\", \" \").title(),\n",
    "                \"number\": \"\",\n",
    "                \"rarity\": \"\",\n",
    "                \"url\": urljoin(BASE, a.get(\"href\"))\n",
    "            })\n",
    "            continue\n",
    "        name, number, rarity_num, rarity_label = name_match.groups()\n",
    "        pals.append({\n",
    "            \"name\": name,\n",
    "            \"number\": number,\n",
    "            \"rarity\": rarity_label,\n",
    "            \"url\": urljoin(BASE, a.get(\"href\"))\n",
    "        })\n",
    "\n",
    "    seen = set()\n",
    "    unique = []\n",
    "    for p in pals:\n",
    "        key = (p[\"name\"], p[\"number\"], p[\"url\"])\n",
    "        if key not in seen:\n",
    "            seen.add(key)\n",
    "            unique.append(p)\n",
    "    return unique\n",
    "\n",
    "def parse_detail(url):\n",
    "    soup = get_soup(url)\n",
    "    data = {}\n",
    "\n",
    "    h1 = soup.select_one(\"h1\")\n",
    "    if h1:\n",
    "        data[\"name_detail\"] = h1.get_text(strip=True)\n",
    "\n",
    "    elements = {\"Fire\",\"Water\",\"Electricity\",\"Leaf\",\"Earth\",\"Ice\",\"Dragon\",\"Dark\",\"Normal\"}\n",
    "    text_all = soup.get_text(\"\\n\", strip=True)\n",
    "    found_el = None\n",
    "    for el in elements:\n",
    "        if f\"\\n{el}\\n\" in text_all:\n",
    "            found_el = el\n",
    "            break\n",
    "    data[\"element\"] = found_el or \"\"\n",
    "\n",
    "    stat_keys = [\"HP\",\"Defense\",\"Crafting Speed\",\"Melee Attack\",\"Shot Attack\",\n",
    "                 \"Price\",\"Stamina\",\"Support\",\"Running Speed\",\"Sprinting Speed\",\"Slow Walk Speed\"]\n",
    "    for k in stat_keys:\n",
    "        m = re.search(rf\"\\b{k}\\b\\s+(\\d+)\", text_all)\n",
    "        data[k.lower().replace(\" \", \"_\")] = m.group(1) if m else \"\"\n",
    "\n",
    "\n",
    "    work = []\n",
    "    work_section = text_all.split(\"Work Suitability\")[-1] if \"Work Suitability\" in text_all else \"\"\n",
    "\n",
    "    for line in work_section.splitlines():\n",
    "        line = line.strip()\n",
    "        if not line: \n",
    "            continue\n",
    "\n",
    "        if line.startswith(\"Partner Skill\") or line.startswith(\"Passive Skills\") or line.startswith(\"Active Skills\"):\n",
    "            break\n",
    "\n",
    "        if \"Lv\" in line:\n",
    "            if work and \"Lv\" not in work[-1]:\n",
    "                work[-1] = f\"{work[-1]} ({line})\"\n",
    "            else:\n",
    "                work.append(line)\n",
    "        else:\n",
    "            work.append(line)\n",
    "    data[\"work_suitability\"] = \"; \".join([w for w in work if any(c.isalpha() for c in w)])\n",
    "\n",
    "    partner = \"\"\n",
    "    if \"Partner Skill\" in text_all:\n",
    "        part = text_all.split(\"Partner Skill\")[1]\n",
    "        partner = part.split(\"Passive Skills\")[0] if \"Passive Skills\" in part else part.split(\"Active Skills\")[0] if \"Active Skills\" in part else part\n",
    "        partner = partner.strip()\n",
    "    data[\"partner_skill\"] = partner\n",
    "\n",
    "\n",
    "    passive = \"\"\n",
    "    if \"Passive Skills\" in text_all:\n",
    "        part = text_all.split(\"Passive Skills\")[1]\n",
    "        passive = part.split(\"Active Skills\")[0] if \"Active Skills\" in part else part\n",
    "        passive = passive.strip()\n",
    "    data[\"passive_skills\"] = passive\n",
    "\n",
    "    active = \"\"\n",
    "    if \"Active Skills\" in text_all:\n",
    "        part = text_all.split(\"Active Skills\")[1]\n",
    "\n",
    "        for stop in [\"Contact us\", \"Privacy Policy\"]:\n",
    "            if stop in part:\n",
    "                part = part.split(stop)[0]\n",
    "        active = part.strip()\n",
    "    data[\"active_skills\"] = active\n",
    "\n",
    "\n",
    "    drops = \"\"\n",
    "    if \"Possible Drops\" in text_all:\n",
    "        part = text_all.split(\"Possible Drops\")[1]\n",
    "        # stop at \"Stats\" usually\n",
    "        if \"Stats\" in part:\n",
    "            part = part.split(\"Stats\")[0]\n",
    "        drops = re.sub(r\"\\s+\", \" \", part).strip()\n",
    "    data[\"possible_drops\"] = drops\n",
    "\n",
    "    return data\n",
    "\n",
    "def main():\n",
    "    index = parse_index()\n",
    "\n",
    "    with open(\"pals_index.csv\", \"w\", newline=\"\", encoding=\"utf-8\") as f:\n",
    "        w = csv.DictWriter(f, fieldnames=[\"name\",\"number\",\"rarity\",\"url\"])\n",
    "        w.writeheader()\n",
    "        for row in index:\n",
    "            w.writerow(row)\n",
    "\n",
    "\n",
    "    rows = []\n",
    "    for i, p in enumerate(index, start=1):\n",
    "        time.sleep(0.75)  # be polite\n",
    "        detail = parse_detail(p[\"url\"])\n",
    "        row = {**p, **detail}\n",
    "        rows.append(row)\n",
    "        print(f\"[{i}/{len(index)}] {p['name']}\")\n",
    "\n",
    "\n",
    "    cols = [\"name\",\"number\",\"rarity\",\"url\",\"name_detail\",\"element\",\n",
    "            \"hp\",\"defense\",\"crafting_speed\",\"melee_attack\",\"shot_attack\",\n",
    "            \"price\",\"stamina\",\"support\",\"running_speed\",\"sprinting_speed\",\"slow_walk_speed\",\n",
    "            \"work_suitability\",\"partner_skill\",\"passive_skills\",\"active_skills\",\"possible_drops\"]\n",
    "    with open(\"pals_full.csv\", \"w\", newline=\"\", encoding=\"utf-8\") as f:\n",
    "        w = csv.DictWriter(f, fieldnames=cols)\n",
    "        w.writeheader()\n",
    "        for r in rows:\n",
    "            w.writerow({k: r.get(k, \"\") for k in cols})"
   ]
  },
  {
   "cell_type": "code",
   "execution_count": 3,
   "metadata": {},
   "outputs": [],
   "source": [
    "# Write the code to load the data with the functions. You don't need to run the code every time. \n",
    "# You can run the code once and save the scrapped data into a csv file. Then load the csv file \n",
    "# for the rest of the analysis"
   ]
  },
  {
   "cell_type": "code",
   "execution_count": 33,
   "metadata": {},
   "outputs": [
    {
     "data": {
      "text/html": [
       "<div>\n",
       "<style scoped>\n",
       "    .dataframe tbody tr th:only-of-type {\n",
       "        vertical-align: middle;\n",
       "    }\n",
       "\n",
       "    .dataframe tbody tr th {\n",
       "        vertical-align: top;\n",
       "    }\n",
       "\n",
       "    .dataframe thead th {\n",
       "        text-align: right;\n",
       "    }\n",
       "</style>\n",
       "<table border=\"1\" class=\"dataframe\">\n",
       "  <thead>\n",
       "    <tr style=\"text-align: right;\">\n",
       "      <th></th>\n",
       "      <th>name</th>\n",
       "      <th>number</th>\n",
       "      <th>rarity</th>\n",
       "      <th>url</th>\n",
       "      <th>name_detail</th>\n",
       "      <th>element</th>\n",
       "      <th>hp</th>\n",
       "      <th>defense</th>\n",
       "      <th>crafting_speed</th>\n",
       "      <th>melee_attack</th>\n",
       "      <th>shot_attack</th>\n",
       "      <th>price</th>\n",
       "      <th>stamina</th>\n",
       "      <th>support</th>\n",
       "      <th>running_speed</th>\n",
       "      <th>slow_walk_speed</th>\n",
       "      <th>work_suitability</th>\n",
       "      <th>partner_skill</th>\n",
       "    </tr>\n",
       "  </thead>\n",
       "  <tbody>\n",
       "    <tr>\n",
       "      <th>0</th>\n",
       "      <td>Anubis</td>\n",
       "      <td>100</td>\n",
       "      <td>Epic</td>\n",
       "      <td>https://palworld.gg/pal/anubis</td>\n",
       "      <td>Anubis</td>\n",
       "      <td>Earth</td>\n",
       "      <td>120</td>\n",
       "      <td>100</td>\n",
       "      <td>100</td>\n",
       "      <td>130</td>\n",
       "      <td>130</td>\n",
       "      <td>4960</td>\n",
       "      <td>100</td>\n",
       "      <td>100</td>\n",
       "      <td>800</td>\n",
       "      <td>80</td>\n",
       "      <td>Gathering; Cooling; Deforesting; Kindling; Gen...</td>\n",
       "      <td>Guardian of the Desert\\nWhile fighting togethe...</td>\n",
       "    </tr>\n",
       "    <tr>\n",
       "      <th>1</th>\n",
       "      <td>Arsox</td>\n",
       "      <td>42</td>\n",
       "      <td>Common</td>\n",
       "      <td>https://palworld.gg/pal/arsox</td>\n",
       "      <td>Arsox</td>\n",
       "      <td>Fire</td>\n",
       "      <td>85</td>\n",
       "      <td>95</td>\n",
       "      <td>100</td>\n",
       "      <td>100</td>\n",
       "      <td>95</td>\n",
       "      <td>3520</td>\n",
       "      <td>120</td>\n",
       "      <td>100</td>\n",
       "      <td>700</td>\n",
       "      <td>87</td>\n",
       "      <td>Gathering; Cooling; Deforesting (Lv); Kindling...</td>\n",
       "      <td>Warm Body\\nCan be ridden.\\r\\nKeeps the rider w...</td>\n",
       "    </tr>\n",
       "    <tr>\n",
       "      <th>2</th>\n",
       "      <td>Astegon</td>\n",
       "      <td>98</td>\n",
       "      <td>Epic</td>\n",
       "      <td>https://palworld.gg/pal/astegon</td>\n",
       "      <td>Astegon</td>\n",
       "      <td>Dark</td>\n",
       "      <td>100</td>\n",
       "      <td>125</td>\n",
       "      <td>100</td>\n",
       "      <td>100</td>\n",
       "      <td>125</td>\n",
       "      <td>8200</td>\n",
       "      <td>300</td>\n",
       "      <td>100</td>\n",
       "      <td>700</td>\n",
       "      <td>100</td>\n",
       "      <td>Gathering; Cooling; Deforesting; Kindling; Gen...</td>\n",
       "      <td>Black Ankylosaur\\nCan be ridden as a flying mo...</td>\n",
       "    </tr>\n",
       "    <tr>\n",
       "      <th>3</th>\n",
       "      <td>Azurmane</td>\n",
       "      <td>136</td>\n",
       "      <td>Rare</td>\n",
       "      <td>https://palworld.gg/pal/azurmane</td>\n",
       "      <td>Azurmane</td>\n",
       "      <td>Electricity</td>\n",
       "      <td>130</td>\n",
       "      <td>110</td>\n",
       "      <td>100</td>\n",
       "      <td>100</td>\n",
       "      <td>120</td>\n",
       "      <td>6680</td>\n",
       "      <td>220</td>\n",
       "      <td>100</td>\n",
       "      <td>900</td>\n",
       "      <td>90</td>\n",
       "      <td>Gathering (Lv); Cooling; Deforesting; Kindling...</td>\n",
       "      <td>Plasma Dash\\nCan be ridden.\\r\\nAlso allows das...</td>\n",
       "    </tr>\n",
       "    <tr>\n",
       "      <th>4</th>\n",
       "      <td>Azurobe</td>\n",
       "      <td>82</td>\n",
       "      <td>Rare</td>\n",
       "      <td>https://palworld.gg/pal/azurobe</td>\n",
       "      <td>Azurobe</td>\n",
       "      <td>Water</td>\n",
       "      <td>110</td>\n",
       "      <td>100</td>\n",
       "      <td>100</td>\n",
       "      <td>70</td>\n",
       "      <td>100</td>\n",
       "      <td>5600</td>\n",
       "      <td>160</td>\n",
       "      <td>100</td>\n",
       "      <td>600</td>\n",
       "      <td>75</td>\n",
       "      <td>Gathering; Cooling; Deforesting; Kindling; Gen...</td>\n",
       "      <td>Waterwing Dance\\nCan be ridden to travel on wa...</td>\n",
       "    </tr>\n",
       "  </tbody>\n",
       "</table>\n",
       "</div>"
      ],
      "text/plain": [
       "       name  number  rarity                               url name_detail  \\\n",
       "0    Anubis     100    Epic    https://palworld.gg/pal/anubis      Anubis   \n",
       "1     Arsox      42  Common     https://palworld.gg/pal/arsox       Arsox   \n",
       "2   Astegon      98    Epic   https://palworld.gg/pal/astegon     Astegon   \n",
       "3  Azurmane     136    Rare  https://palworld.gg/pal/azurmane    Azurmane   \n",
       "4   Azurobe      82    Rare   https://palworld.gg/pal/azurobe     Azurobe   \n",
       "\n",
       "       element   hp  defense  crafting_speed  melee_attack  shot_attack  \\\n",
       "0        Earth  120      100             100           130          130   \n",
       "1         Fire   85       95             100           100           95   \n",
       "2         Dark  100      125             100           100          125   \n",
       "3  Electricity  130      110             100           100          120   \n",
       "4        Water  110      100             100            70          100   \n",
       "\n",
       "   price  stamina  support  running_speed  slow_walk_speed  \\\n",
       "0   4960      100      100            800               80   \n",
       "1   3520      120      100            700               87   \n",
       "2   8200      300      100            700              100   \n",
       "3   6680      220      100            900               90   \n",
       "4   5600      160      100            600               75   \n",
       "\n",
       "                                    work_suitability  \\\n",
       "0  Gathering; Cooling; Deforesting; Kindling; Gen...   \n",
       "1  Gathering; Cooling; Deforesting (Lv); Kindling...   \n",
       "2  Gathering; Cooling; Deforesting; Kindling; Gen...   \n",
       "3  Gathering (Lv); Cooling; Deforesting; Kindling...   \n",
       "4  Gathering; Cooling; Deforesting; Kindling; Gen...   \n",
       "\n",
       "                                       partner_skill  \n",
       "0  Guardian of the Desert\\nWhile fighting togethe...  \n",
       "1  Warm Body\\nCan be ridden.\\r\\nKeeps the rider w...  \n",
       "2  Black Ankylosaur\\nCan be ridden as a flying mo...  \n",
       "3  Plasma Dash\\nCan be ridden.\\r\\nAlso allows das...  \n",
       "4  Waterwing Dance\\nCan be ridden to travel on wa...  "
      ]
     },
     "execution_count": 33,
     "metadata": {},
     "output_type": "execute_result"
    }
   ],
   "source": [
    "def load_data(filename):\n",
    "    '''\n",
    "    Load a CSV file into a pandas DataFrame.\n",
    "\n",
    "    Args:\n",
    "        filename (str): The path to the CSV file to be loaded.\n",
    "\n",
    "    Returns: \n",
    "        df (pandas.DataFrame): A DataFrame containing the data from the CSV file.\n",
    "    '''\n",
    "    df = pd.read_csv(filename)\n",
    "    return df\n",
    "\n",
    "df_pals = load_data('pals_full.csv')\n",
    "df_pals.dropna(axis = 1, how = 'any', inplace = True)\n",
    "df_pals.head()"
   ]
  },
  {
   "cell_type": "code",
   "execution_count": 35,
   "metadata": {},
   "outputs": [
    {
     "name": "stdout",
     "output_type": "stream",
     "text": [
      "<class 'pandas.core.frame.DataFrame'>\n",
      "RangeIndex: 225 entries, 0 to 224\n",
      "Data columns (total 18 columns):\n",
      " #   Column            Non-Null Count  Dtype \n",
      "---  ------            --------------  ----- \n",
      " 0   name              225 non-null    object\n",
      " 1   number            225 non-null    int64 \n",
      " 2   rarity            225 non-null    object\n",
      " 3   url               225 non-null    object\n",
      " 4   name_detail       225 non-null    object\n",
      " 5   element           225 non-null    object\n",
      " 6   hp                225 non-null    int64 \n",
      " 7   defense           225 non-null    int64 \n",
      " 8   crafting_speed    225 non-null    int64 \n",
      " 9   melee_attack      225 non-null    int64 \n",
      " 10  shot_attack       225 non-null    int64 \n",
      " 11  price             225 non-null    int64 \n",
      " 12  stamina           225 non-null    int64 \n",
      " 13  support           225 non-null    int64 \n",
      " 14  running_speed     225 non-null    int64 \n",
      " 15  slow_walk_speed   225 non-null    int64 \n",
      " 16  work_suitability  225 non-null    object\n",
      " 17  partner_skill     225 non-null    object\n",
      "dtypes: int64(11), object(7)\n",
      "memory usage: 31.8+ KB\n"
     ]
    }
   ],
   "source": [
    "df_pals.info()"
   ]
  },
  {
   "cell_type": "code",
   "execution_count": 74,
   "metadata": {},
   "outputs": [
    {
     "data": {
      "text/plain": [
       "0      100\n",
       "1      100\n",
       "2      100\n",
       "3      100\n",
       "4      100\n",
       "      ... \n",
       "220    100\n",
       "221    100\n",
       "222    100\n",
       "223    100\n",
       "224    100\n",
       "Name: crafting_speed, Length: 225, dtype: int64"
      ]
     },
     "execution_count": 74,
     "metadata": {},
     "output_type": "execute_result"
    }
   ],
   "source": [
    "df_pals['crafting_speed']"
   ]
  },
  {
   "cell_type": "markdown",
   "metadata": {},
   "source": [
    "## Visualizations\n",
    "\n",
    "### Visualization functions overview\n",
    "List all the functions you have written for visualization. For each one, write one sentence to describe it. \n",
    "- `make_hist()`\n",
    "    - Generate a histogram with given data and feature\n",
    " \n",
    "### Visualization results\n",
    "- Present 3-4 data visualizations.\n",
    "- For each visualization, you need to include title, xlabel, ylabel, legend (if necessary)\n",
    "- For each visualization, explain why you make this data visualization (how it related to your research question) and explain what you have learned from this visualization"
   ]
  },
  {
   "cell_type": "code",
   "execution_count": 90,
   "metadata": {},
   "outputs": [],
   "source": [
    "# list all the functions you have for visualization. Make sure write full \n",
    "# docstrings for each function\n",
    "def make_hist(df, y_feat):\n",
    "    '''\n",
    "    Plot a histogram for a given numerical feature from a DataFrame.\n",
    "\n",
    "    Args:\n",
    "        None.\n",
    "\n",
    "    Returns:\n",
    "        None. Displays the histogram plot.\n",
    "    '''\n",
    "    bins = np.linspace(df[y_feat].min(), df[y_feat].max(), 15)\n",
    "    plt.hist(df[y_feat], bins = bins, density = False)\n",
    "    plt.title(f'Distribution of {y_feat.capitalize()}')\n",
    "    plt.xlabel(y_feat.capitalize())\n",
    "    plt.ylabel('Count')\n",
    "    plt.show()"
   ]
  },
  {
   "cell_type": "code",
   "execution_count": 96,
   "metadata": {},
   "outputs": [
    {
     "data": {
      "image/png": "[encoded data removed]",
      "text/plain": [
       "<Figure size 640x480 with 1 Axes>"
      ]
     },
     "metadata": {},
     "output_type": "display_data"
    },
    {
     "data": {
      "image/png": "[encoded data removed]",
      "text/plain": [
       "<Figure size 640x480 with 2 Axes>"
      ]
     },
     "metadata": {},
     "output_type": "display_data"
    },
    {
     "data": {
      "image/png": "[encoded data removed]",
      "text/plain": [
       "<Figure size 640x480 with 1 Axes>"
      ]
     },
     "metadata": {},
     "output_type": "display_data"
    },
    {
     "data": {
      "image/png": "[encoded data removed]",
      "text/plain": [
       "<Figure size 640x480 with 2 Axes>"
      ]
     },
     "metadata": {},
     "output_type": "display_data"
    },
    {
     "data": {
      "image/png": "[encoded data removed]",
      "text/plain": [
       "<Figure size 640x480 with 1 Axes>"
      ]
     },
     "metadata": {},
     "output_type": "display_data"
    },
    {
     "data": {
      "image/png": "[encoded data removed]",
      "text/plain": [
       "<Figure size 1800x600 with 1 Axes>"
      ]
     },
     "metadata": {},
     "output_type": "display_data"
    }
   ],
   "source": [
    "y_feat_list = ['stamina', 'running_speed', 'hp', 'shot_attack', 'crafting_speed']\n",
    "\n",
    "def hist_subplot(df, y_feat_list):\n",
    "    for feat in y_feat_list:\n",
    "        feat_idx = y_feat_list.index(feat)\n",
    "        plt.subplot(1, 5, feat_idx + 1)\n",
    "\n",
    "        make_hist(df, feat)\n",
    "\n",
    "        if feat_idx in (0, 2, 4):\n",
    "            plt.ylabel('Density')\n",
    "\n",
    "    plt.gcf().set_size_inches(18, 6)\n",
    "    plt.subplots_adjust(wspace = 0.5, hspace = 1)\n",
    "\n",
    "hist_subplot(df_pals, y_feat_list)"
   ]
  },
  {
   "cell_type": "markdown",
   "metadata": {},
   "source": [
    "#### visualization 1"
   ]
  },
  {
   "cell_type": "code",
   "execution_count": 5,
   "metadata": {},
   "outputs": [],
   "source": [
    "# Write the code to run functions to get each data visualization in separate code chunks. \n",
    "# Interpret the figures. "
   ]
  },
  {
   "cell_type": "markdown",
   "metadata": {},
   "source": [
    "#### visualization 2"
   ]
  },
  {
   "cell_type": "code",
   "execution_count": 6,
   "metadata": {},
   "outputs": [],
   "source": [
    "# Write the code to run functions to get each data visualization in separate code chunks. \n",
    "# Interpret the figures. "
   ]
  },
  {
   "cell_type": "markdown",
   "metadata": {},
   "source": [
    "#### visualization 3"
   ]
  },
  {
   "cell_type": "code",
   "execution_count": 7,
   "metadata": {},
   "outputs": [],
   "source": [
    "# Write the code to run functions to get each data visualization in separate code chunks. \n",
    "# Interpret the figures. "
   ]
  },
  {
   "cell_type": "markdown",
   "metadata": {},
   "source": [
    "## Models\n",
    "\n",
    "### Modeling functions overview\n",
    "List all the functions you have written for modeling. For each one, write one sentence to describe it. \n",
    "- `fit_linear()`\n",
    "    - fit a linear model to the data and output the r2, slope and intercept\n",
    "\n",
    "### Model results\n",
    "\n",
    "- Present 2-3 models for the analysis.\n",
    "- Explain any pre-processing steps you have done (eg: scaling, polynomial, dummy features)\n",
    "- For each model, explain why you think this model is suitable and what metrics you want to use to evaluate the model\n",
    "    - If it is a classification model, you need to present the confusion matrix, calculate the accuracy, sensitivity and specificity with cross-validation\n",
    "    - If it is a regression model, you need to present the r2 and MSE with cross-validation\n",
    "    - If it is a linear regression model/multiple linear regression model, you need to interpret the meaning of the coefficient with the full data\n",
    "    - If it is a decision tree model, you need to plot the tree with the full data\n",
    "    - If it is a random forest model, you need to present the feature importance plot with the full data\n",
    "    - If it is a PCA, you need to explain how to select the number of components and interpret the key features in the first two components\n",
    "    - If it is a clustering, you need explain how to select the number of clustering and summarize the clustering. "
   ]
  },
  {
   "cell_type": "code",
   "execution_count": 8,
   "metadata": {},
   "outputs": [],
   "source": [
    "# list all the functions you have for modeling. Make sure write full \n",
    "# docstrings for each function\n",
    "def fit_linear(df, y_feat, x_feat):\n",
    "\n",
    "    pass"
   ]
  },
  {
   "cell_type": "markdown",
   "metadata": {},
   "source": [
    "#### Model 1"
   ]
  },
  {
   "cell_type": "code",
   "execution_count": 9,
   "metadata": {},
   "outputs": [],
   "source": [
    "# Write the code to run functions to fit each model in separate code chunks. \n",
    "# Interpret the model results. "
   ]
  },
  {
   "cell_type": "markdown",
   "metadata": {},
   "source": [
    "#### Model 2"
   ]
  },
  {
   "cell_type": "code",
   "execution_count": 10,
   "metadata": {},
   "outputs": [],
   "source": [
    "# Write the code to run functions to fit each model in separate code chunks. \n",
    "# Interpret the model results. "
   ]
  },
  {
   "cell_type": "markdown",
   "metadata": {},
   "source": [
    "#### Model 3"
   ]
  },
  {
   "cell_type": "code",
   "execution_count": 11,
   "metadata": {},
   "outputs": [],
   "source": [
    "# Write the code to run functions to fit each model in separate code chunks. \n",
    "# Interpret the model results. "
   ]
  },
  {
   "cell_type": "markdown",
   "metadata": {},
   "source": [
    "## Discussion\n",
    "\n",
    "- One or two paragraphs to summarize your findings in the modeling sections and do the models answer your research question?\r",
    "- Any other potential thing you can do with the analysis (eg: include more features, get more data, try some other models etc.)\n",
    "- List the contribution for each group member."
   ]
  }
 ],
 "metadata": {
  "kernelspec": {
   "display_name": "Python [conda env:base] *",
   "language": "python",
   "name": "conda-base-py"
  },
  "language_info": {
   "codemirror_mode": {
    "name": "ipython",
    "version": 3
   },
   "file_extension": ".py",
   "mimetype": "text/x-python",
   "name": "python",
   "nbconvert_exporter": "python",
   "pygments_lexer": "ipython3",
   "version": "3.12.7"
  }
 },
 "nbformat": 4,
 "nbformat_minor": 4
}
