{
 "cells": [
  {
   "cell_type": "markdown",
   "metadata": {},
   "source": [
    "# DS 3000 HW 5 \n",
    "\n",
    "Due: Sunday July 20th @ 11:59 PM EST\n",
    "\n",
    "### Submission Instructions\n",
    "Submit this `ipynb` file and the a `PDF` file included with the coding results to Gradescope (this can also be done via the assignment on Canvas).  To ensure that your submitted files represent your latest code, make sure to give a fresh `Kernel > Restart & Run All` just before uploading the files to gradescope. \n",
    "\n",
    "**Notice that this is a group assignment. Each group only need to submit one copy and when you submit the work, please include everyone in your group.**\n",
    "\n",
    "### Tips for success\n",
    "- Start early\n",
    "- Make use of Piazza\n",
    "- Make use of Office hour\n",
    "- Remember to use cells and headings to make the notebook easy to read (if a grader cannot find the answer to a problem, you will receive no points for it)\n",
    "- Under no circumstances may one student view or share their ungraded homework or quiz with another student [(see also)](http://www.northeastern.edu/osccr/academic-integrity), though you are welcome to **talk about** (not show each other) the problems."
   ]
  },
  {
   "cell_type": "markdown",
   "metadata": {},
   "source": [
    "## Project proposal\n",
    "\n",
    "For this course, we aim to complete a data analysis project about the the game [Palworld](https://en.wikipedia.org/wiki/Palworld). To help you start with the project, here are a couple of things you need to consider and work on to get a clean data for later analysis. \n",
    "\n",
    "To start with the project, please take some time to get familiar with the game. You don't need to play it but please at least know the basic terminologies, like what is a Pal. (And also, if you do play it, please do not spend too much time on it.)\n",
    "\n",
    "The two recommended database is [https://palworld.gg/](https://palworld.gg/) and [https://paldb.cc/en/](https://paldb.cc/en/). You can use either, or both, or some other database about the Palworld. "
   ]
  },
  {
   "cell_type": "markdown",
   "metadata": {},
   "source": [
    "### Part 1.1 (10 points)\n",
    "\n",
    "Please list 2-3 questions you may be interested to study with the Palworld database. It can be anything related in the game, like the Pals, items or constructions. Some potential question structures can be: \n",
    "- Are `A` and `B` related? How they are related?\n",
    "- Which features may affect `C`'s change?\n",
    "- If I need a higher `D`, which features may have a lower/higher value?\n",
    "- Based on `E` and `F`, which items/pals are similar?\n",
    "- I need to predict the value for `G`, which features I need to consider?"
   ]
  },
  {
   "cell_type": "markdown",
   "metadata": {},
   "source": [
    "#### Question 1\n",
    "Are a Pal's stamina and running speed related? If so, how?\n",
    "\n",
    "#### Question 2\n",
    "What features affect a Pal's rank in the tier list? (divide Pals into their ranks)\n",
    "\n",
    "#### Question 3\n",
    "What features are needed for consideration for predicting the price of a Pal? (divide Pals into price ranges)"
   ]
  },
  {
   "cell_type": "markdown",
   "metadata": {},
   "source": [
    "### Part 1.2 (20 points)\n",
    "\n",
    "Based on the questions we proposed in the part 1.1, what features we may need to include in the analysis? Check the websites, which website has those information? **You need to pick at least 8 features for analysis.** We recommend a mix of numerical (numbers etc.) and categorical (level etc.) features. Is there any other features that you think it may be important but hard to extract or find on the website (can be something in or not in the game)?"
   ]
  },
  {
   "cell_type": "markdown",
   "metadata": {},
   "source": [
    "#### Features 1 and 2 (for Question 1)\n",
    "`Stamina` and `Running Speed`\n",
    "\n",
    "#### Features 3 - 5 (for Question 2)\n",
    "`HP`, `Shot Attack`, and `Crafting Speed`\n",
    "\n",
    "#### Features 6 - 8 (for Question 3)\n",
    "`Rarity`, `Type`, `Work Suitability`"
   ]
  },
  {
   "cell_type": "markdown",
   "metadata": {},
   "source": [
    "### Part 1.3 (20 points)\n",
    "\n",
    "Suppose you do have all the features you mentioned in part 1.2. List 3-4 data visulizations you can make with those features. You do not need to make those visulizations here. Just describe the type of the visualizations (histogram, scatter plot etc. ), which features are involved, will there any hover data or color being added, and **discuss how these data visualizations may be related (or even answer) to your questions in part 1.1**. "
   ]
  },
  {
   "cell_type": "markdown",
   "metadata": {},
   "source": [
    "1. Scatterplot: `Stamina` vs. `Running Speed`\n",
    "- **Features Involved:** `Stamina` (x-axis), `Running Speed` (y-axis)\n",
    "- **Color:** Use colors to indicate the `Rarity`\n",
    "- **Purpose:** This will reveal a correlation between stamina and speed; a clear upward or downward trend could show us how Pals balance endurance and mobility.\n",
    "\n",
    "2. Histogram: Distribution of `Crafting Speed` by Tier\n",
    "- **Features Involved:** `Crafting Speed`, grouped by `Tier Rank`\n",
    "- **Approach:** Plot multiple histograms overlaid or side-by-side for all tiers (S, A, B, C, D)\n",
    "- **Color:** Use different colors for each tier group\n",
    "- **Purpose:** Supports Question 2 by showing how crafting speed is distributed for different ranks. Higher-tier Pals may be found to be clustering toward higher values.\n",
    "\n",
    "3. Box Plot: `HP`, `Shot Attack`, and `Crafting Speed`\n",
    "- **Features Involved:** `HP`, `Shot Attack`, `Crafting Speed`\n",
    "- **Approach:** Side-by-side box plots to compare distributions of key stats\n",
    "- **X-axis:** Feature names (3 categories)\n",
    "- **Y-axis:** Value of each stat\n",
    "- **Purpose:** This will also help answer Question 2 by giving a clean summary of central tendency and spread across key features that affect rank.\n",
    "\n",
    "4. Bar Chart: Average Pal Price by `Work Suitability`\n",
    "- **Features Involved:** `Work Suitability` (x-axis), `Average Price` (y-axis)\n",
    "- **Approach:** Grouped bar chart, with one bar per Work Suitability type (e.g. Mining, Farming, etc.)\n",
    "- **Color:** Bars will be colored by `Rarity`\n",
    "- **Purpose:** Answers Question 3 by visualizing how price differs by utility role. If some work roles show consistent results in higher prices, those features may prove important for price prediction."
   ]
  },
  {
   "cell_type": "markdown",
   "metadata": {},
   "source": [
    "### Part 1.4  (50 points)\n",
    "\n",
    "Now, go ahead and try to scrape the features you need. \n",
    "\n",
    "Please show all the codes you have for web scrapping. Your current output data frame should include at least 4 features. (You do not need to scrape all features at this moment, although it is recommend to start earlier. Also, you can choose to not to use the ones you have scraped in the later analysis. No need to worry if you need to change anything later). **Please design your code in pipeline and clearly document each function.** See the Python Style Guide in Week 1 for proper documentation. It is also recommended to save the data you have scrapped. "
   ]
  },
  {
   "cell_type": "code",
   "execution_count": 15,
   "metadata": {},
   "outputs": [],
   "source": [
    "import warnings\n",
    "warnings.simplefilter(action='ignore', category=FutureWarning)\n",
    "\n",
    "import requests\n",
    "from bs4 import BeautifulSoup\n",
    "import pandas as pd"
   ]
  },
  {
   "cell_type": "code",
   "execution_count": 120,
   "metadata": {},
   "outputs": [],
   "source": [
    "url = 'https://palworld.gg/pals'\n",
    "\n",
    "def get_html(url):\n",
    "    \"\"\" \n",
    "    Retrieves the HTML content of a given URL\n",
    "    \n",
    "    Args:\n",
    "        url (str): URL of the PalWorld database page\n",
    "        \n",
    "    Returns:\n",
    "        html_str (str): Raw HTML content of the page as a long string\n",
    "    \"\"\"\n",
    "    html_str = requests.get(url).text\n",
    "\n",
    "    return html_str"
   ]
  },
  {
   "cell_type": "code",
   "execution_count": 175,
   "metadata": {},
   "outputs": [],
   "source": [
    "html = get_html(url)\n",
    "\n",
    "def build_pal_df(html):\n",
    "    \"\"\" \n",
    "    Extracts Pal data from the HTML content via scraping to return a DataFrame with the selected features\n",
    "    \n",
    "    Args:\n",
    "        html_str (str): Raw HTML content of the PalWorld Pals page\n",
    "        \n",
    "    Returns:\n",
    "        df_pals (pd.DataFrame): dataframe containing at least four features of Pals (Rarity, Type)\n",
    "    \"\"\"\n",
    "    soup = BeautifulSoup(html)\n",
    "\n",
    "    unfiltered_list = []\n",
    "    name_list = []\n",
    "    rarity_list = []\n",
    "    type_list = []\n",
    "    \n",
    "    for pal in soup.find_all(class_ = 'name'):\n",
    "        pal_name = pal.text\n",
    "        unfiltered_list.append(pal_name.split('#')[0])\n",
    "    name_list = unfiltered_list[::2]\n",
    "    rarity_list = unfiltered_list[1::2]\n",
    "    \n",
    "    df_pals = pd.DataFrame({'Name' : name_list,\n",
    "                            'Rarity' : rarity_list})\n",
    "    \n",
    "    return df_pals"
   ]
  },
  {
   "cell_type": "code",
   "execution_count": 176,
   "metadata": {},
   "outputs": [
    {
     "data": {
      "text/html": [
       "<div>\n",
       "<style scoped>\n",
       "    .dataframe tbody tr th:only-of-type {\n",
       "        vertical-align: middle;\n",
       "    }\n",
       "\n",
       "    .dataframe tbody tr th {\n",
       "        vertical-align: top;\n",
       "    }\n",
       "\n",
       "    .dataframe thead th {\n",
       "        text-align: right;\n",
       "    }\n",
       "</style>\n",
       "<table border=\"1\" class=\"dataframe\">\n",
       "  <thead>\n",
       "    <tr style=\"text-align: right;\">\n",
       "      <th></th>\n",
       "      <th>Name</th>\n",
       "      <th>Rarity</th>\n",
       "    </tr>\n",
       "  </thead>\n",
       "  <tbody>\n",
       "    <tr>\n",
       "      <th>0</th>\n",
       "      <td>Anubis</td>\n",
       "      <td>Epic</td>\n",
       "    </tr>\n",
       "    <tr>\n",
       "      <th>1</th>\n",
       "      <td>Arsox</td>\n",
       "      <td>Common</td>\n",
       "    </tr>\n",
       "    <tr>\n",
       "      <th>2</th>\n",
       "      <td>Astegon</td>\n",
       "      <td>Epic</td>\n",
       "    </tr>\n",
       "    <tr>\n",
       "      <th>3</th>\n",
       "      <td>Azurmane</td>\n",
       "      <td>Rare</td>\n",
       "    </tr>\n",
       "    <tr>\n",
       "      <th>4</th>\n",
       "      <td>Azurobe</td>\n",
       "      <td>Rare</td>\n",
       "    </tr>\n",
       "  </tbody>\n",
       "</table>\n",
       "</div>"
      ],
      "text/plain": [
       "        Name  Rarity\n",
       "0    Anubis     Epic\n",
       "1     Arsox   Common\n",
       "2   Astegon     Epic\n",
       "3  Azurmane     Rare\n",
       "4   Azurobe     Rare"
      ]
     },
     "execution_count": 176,
     "metadata": {},
     "output_type": "execute_result"
    }
   ],
   "source": [
    "build_pal_df(html).head()"
   ]
  },
  {
   "cell_type": "code",
   "execution_count": null,
   "metadata": {},
   "outputs": [],
   "source": []
  }
 ],
 "metadata": {
  "kernelspec": {
   "display_name": "Python [conda env:base] *",
   "language": "python",
   "name": "conda-base-py"
  },
  "language_info": {
   "codemirror_mode": {
    "name": "ipython",
    "version": 3
   },
   "file_extension": ".py",
   "mimetype": "text/x-python",
   "name": "python",
   "nbconvert_exporter": "python",
   "pygments_lexer": "ipython3",
   "version": "3.12.7"
  }
 },
 "nbformat": 4,
 "nbformat_minor": 4
}
